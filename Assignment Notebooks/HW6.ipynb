{
 "cells": [
  {
   "cell_type": "markdown",
   "id": "965c34c1-7020-4d3e-8370-311982774dd9",
   "metadata": {},
   "source": [
    "# Homework 6 (Due 02/16/2024)"
   ]
  },
  {
   "cell_type": "code",
   "execution_count": 26,
   "id": "e068e033-1626-4207-a449-e2ca1a40a703",
   "metadata": {},
   "outputs": [],
   "source": [
    "import sys\n",
    "from matplotlib import pyplot as plt\n",
    "import numpy as np\n",
    "import astropy.units as u\n",
    "import warnings\n",
    "import pandas as pd\n",
    "\n",
    "# Ignore all warnings\n",
    "warnings.filterwarnings(\"ignore\")\n",
    "\n",
    "# importing custom functions\n",
    "sys.path.append(\"../\")\n",
    "from ASTRO530 import plotting"
   ]
  },
  {
   "cell_type": "markdown",
   "id": "bdbd1690-a5d2-4794-864f-95d9ba929f97",
   "metadata": {},
   "source": [
    "---\n",
    "## Question 11: Partition Functions"
   ]
  },
  {
   "cell_type": "code",
   "execution_count": 171,
   "id": "189b3464-29c0-4e51-bca5-945874eeaa0a",
   "metadata": {},
   "outputs": [],
   "source": [
    "def partition_function(species,T):\n",
    "    from scipy.optimize import curve_fit\n",
    "    import pandas as pd\n",
    "    import numpy as np\n",
    "\n",
    "    partition_functions = pd.read_csv(\"partition_functions_T.csv\",delimiter=\",\") # modified table \n",
    "\n",
    "    if species == 'H-': # only depends on ionization energy, filled valence shell\n",
    "        chi = 0.755 # eV\n",
    "        U = 1*10**(-(chi*(5040/T)))\n",
    "    elif species not in partition_functions.columns: # table is missing fully ionized elements, which have a constant partition function\n",
    "        U = 1.\n",
    "    else:\n",
    "        def exponential_decay(x, a, b, c):\n",
    "            return a * np.exp(-b * x) + c\n",
    "        \n",
    "        if species in partition_functions.columns[:-1]:\n",
    "            y_values = np.array(list(partition_functions[species][:-1].values))  # Extracting values from DataFrame column\n",
    "            thetas = partition_functions['theta'].values\n",
    "            nan_mask = ~np.isnan(y_values)  # Create mask to remove NaN values\n",
    "            y = y_values[nan_mask]\n",
    "            x_values = thetas[:-1][nan_mask]\n",
    "            x = np.array(x_values, dtype=float)\n",
    "    \n",
    "            popt, pcov = curve_fit(exponential_decay, x, y) # fitting the points\n",
    "            x_new = 5040/T\n",
    "            logU = exponential_decay(x_new, *popt) # returns log value of U\n",
    "            U = 10**logU\n",
    "    return U"
   ]
  },
  {
   "cell_type": "markdown",
   "id": "37e3360e-22dd-4049-b8f5-76a5759123be",
   "metadata": {},
   "source": [
    "---\n",
    "## Question 13: Saha Equation"
   ]
  },
  {
   "cell_type": "code",
   "execution_count": 158,
   "id": "50e6feba-8ac0-4376-93f0-6b0ed6448308",
   "metadata": {},
   "outputs": [],
   "source": [
    "def Phi(species,T):\n",
    "\n",
    "    partition_functions = pd.read_csv(\"partition_functions_T.csv\",delimiter=\",\")\n",
    "    partition_functions = partition_functions.drop(\"Unnamed: 0\",axis=1)\n",
    "\n",
    "    ionizations_nist = pd.read_csv(\"ionization_nist.csv\",delimiter=\",\")\n",
    "\n",
    "    # assert (species in partition_functions.columns) or (species in ['H-','H+']), f'{species} is not an acceptable species to evaluate the partition function for lower state. Please use one of the following species:{[\"H-\",\"H+\"]+list(partition_functions.columns.values)}'\n",
    "    assert (species in ionizations_nist['Species'].values) or (species in ['H-']), f'{species} is not an acceptable species to evaluate the ionization potential for lower state. Please use one of the following species:{[\"H-\"]+list(ionizations_nist[\"Species\"].values)}'\n",
    "    \n",
    "    if '-' not in species:\n",
    "        species_1 = species + '+'\n",
    "    else: \n",
    "        species_1 = species.replace('-','')\n",
    "\n",
    "    # assert (species_1 in partition_functions.columns) or (species_1 in ['H-','H+']), f'{species_1} species not found; cannot calculate partition function for upper state.'\n",
    "\n",
    "    U_r = partition_function(species,T)\n",
    "    U_r1 = partition_function(species_1,T)\n",
    "    if species == 'H-':\n",
    "        chi = 0.755 #eV\n",
    "    else:\n",
    "        chi = ionizations_nist['Ionization Energy'].values[np.where(ionizations_nist['Species'].values == species)][0]\n",
    "\n",
    "    phi_T = 0.6665*(U_r1/U_r)*(T**(5/2))*(10**(-(5040/T)*chi))\n",
    "    return phi_T"
   ]
  },
  {
   "cell_type": "code",
   "execution_count": null,
   "id": "74cbf6cc-60a7-40e1-9b9b-c9c161f13b2a",
   "metadata": {},
   "outputs": [],
   "source": [
    "# --- old manipulation code that might come in handy later --- #\n",
    "\n",
    "# ionizations = pd.read_csv(\"ionization.csv\",delimiter=\",\")\n",
    "# species = []\n",
    "# ionization_energies = []\n",
    "# for i,element in enumerate(ionizations['Element'].values):\n",
    "#     species.append(element)\n",
    "#     ionization_energies.append(ionizations['1st Ionization Energy'].values[i])\n",
    "#     species.append(element+'+')\n",
    "#     ionization_energies.append(ionizations['2nd Ionization Energy'].values[i])\n",
    "#     species.append(element+'++')\n",
    "#     ionization_energies.append(ionizations['3rd Ionization Energy'].values[i])\n",
    "\n",
    "# nan_mask = ~np.isnan(np.array(ionization_energies))\n",
    "# species = list(np.array(species)[nan_mask])\n",
    "# ionization_energies = list(np.array(ionization_energies)[nan_mask])\n",
    "# ionizations = {species[i]: ionization_energies[i] for i in range(len(species))}\n",
    "\n",
    "# ionizable_species = list(set(ionizations.keys()).union(set(ionizations_nist['Species'].values)))\n",
    "# print(ionizable_species)"
   ]
  }
 ],
 "metadata": {
  "kernelspec": {
   "display_name": "Python 3 (ipykernel)",
   "language": "python",
   "name": "python3"
  },
  "language_info": {
   "codemirror_mode": {
    "name": "ipython",
    "version": 3
   },
   "file_extension": ".py",
   "mimetype": "text/x-python",
   "name": "python",
   "nbconvert_exporter": "python",
   "pygments_lexer": "ipython3",
   "version": "3.10.2"
  }
 },
 "nbformat": 4,
 "nbformat_minor": 5
}
