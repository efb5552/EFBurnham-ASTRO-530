{
 "cells": [
  {
   "cell_type": "markdown",
   "id": "27ec9ab3-a69c-4535-b94b-b2ab9f10ebe3",
   "metadata": {},
   "source": [
    "# Homework 1 (Due 01/12/2024)"
   ]
  },
  {
   "cell_type": "code",
   "execution_count": 67,
   "id": "214cd470-7f65-4d8a-bd00-d64f160783ff",
   "metadata": {},
   "outputs": [],
   "source": [
    "# importing custom modules\n",
    "import sys\n",
    "sys.path.append(\"../\")\n",
    "from ASTRO530.functions import planck"
   ]
  },
  {
   "cell_type": "code",
   "execution_count": 64,
   "id": "d84500c7-31f6-419d-9499-486535babd52",
   "metadata": {},
   "outputs": [
    {
     "data": {
      "text/latex": [
       "$[0.041384861,~0.0025867399,~0.00051097322] \\; \\mathrm{\\frac{erg}{s\\,cm^{3}}}$"
      ],
      "text/plain": [
       "<Quantity [0.04138486, 0.00258674, 0.00051097] erg / (s cm3)>"
      ]
     },
     "metadata": {},
     "output_type": "display_data"
    }
   ],
   "source": [
    "x = planck(np.array([1,2,3]),5000,x_type=\"wavelength\")\n",
    "display(x)"
   ]
  },
  {
   "cell_type": "code",
   "execution_count": null,
   "id": "2ca702ce-2d85-4b0d-83f9-1b4527754144",
   "metadata": {},
   "outputs": [],
   "source": []
  }
 ],
 "metadata": {
  "kernelspec": {
   "display_name": "Python 3 (ipykernel)",
   "language": "python",
   "name": "python3"
  },
  "language_info": {
   "codemirror_mode": {
    "name": "ipython",
    "version": 3
   },
   "file_extension": ".py",
   "mimetype": "text/x-python",
   "name": "python",
   "nbconvert_exporter": "python",
   "pygments_lexer": "ipython3",
   "version": "3.10.2"
  }
 },
 "nbformat": 4,
 "nbformat_minor": 5
}
