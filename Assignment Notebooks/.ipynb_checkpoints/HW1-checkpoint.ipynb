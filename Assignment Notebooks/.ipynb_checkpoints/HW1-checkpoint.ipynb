{
 "cells": [
  {
   "cell_type": "markdown",
   "id": "27ec9ab3-a69c-4535-b94b-b2ab9f10ebe3",
   "metadata": {},
   "source": [
    "# Homework 1 (Due 01/12/2024)"
   ]
  },
  {
   "cell_type": "code",
   "execution_count": 32,
   "id": "214cd470-7f65-4d8a-bd00-d64f160783ff",
   "metadata": {},
   "outputs": [],
   "source": [
    "import numpy as np\n",
    "from astropy import units\n",
    "\n",
    "def planck(x,T,x_type=\"frequency\"):\n",
    "    \"\"\"\n",
    "    Planck intensity function.\n",
    "    \n",
    "    Arguments:\n",
    "    - x (vector of length N or a single scalar value): a vector of either frequencies (Hz, s^-1), wavlengths (cm), or wavenumbers (cm^-1)\n",
    "    - T (real scalar): temperature value in Kelvin\n",
    "    - x_type (string): \"frequency\", \"wavelength\", or \"wave number\" (default is \"frequency\")\n",
    "\n",
    "    Outputs:\n",
    "    - B (same type as x): vector of calculated intensity per specified frequency, wavelength, or wave number in x. \n",
    "    \"\"\"\n",
    "    \n",
    "    if x_type not in ['frequency','wavelength','wave number']:\n",
    "        raise ValueError(f'{x_type} is not a valid entry. Valid entries for x_type include \"frequency\" (default), \"wavelength\", or \"wave number\"')\n",
    "    \n",
    "    assert T > 0, \"Temperature must be T > 0 Kelvin\"\n",
    "\n",
    "    from astropy.constants import h, c, k_B\n",
    "\n",
    "    # setting units\n",
    "    h = h.units.cgs # planck constant [erg s]\n",
    "    k_B = k_B.units.cgs # boltzmann constant [erg K^-1]\n",
    "    c = c.units.cgs # speed of light in vacuum [cm s^-1]\n",
    "    T = T * units.K # temperature in Kelvin\n",
    "\n",
    "    if x_type == 'frequency': # eqn. 6.9 from Gray et. al 2022 (4th ed.)\n",
    "        nu = x.copy() * units.Hz\n",
    "        B = (2*h*nu**3)/(c**2)\n",
    "        B = B/(np.exp((h*nu)/(k_B*T)) - 1)\n",
    "\n",
    "    if x_type == 'wavelength': # converted to cgs wavelength units (lam = c/nu) from eqn. 6.9 from Gray et. al 2022 (4th ed.)\n",
    "        lam = x.copy() * units.cm\n",
    "        B = (2*h*c**2)/(lam**5)\n",
    "        B = B/(np.exp((h*c)/(lam*k_B*T)) - 1)\n",
    "\n",
    "    if x_type == 'wave number': # converted to cgs wave number units (nu_tilde = 1/lam = nu/c) from eqn. 6.9 from Gray et. al 2022 (4th ed.)\n",
    "        n_tilde = x.copy() / units.cm\n",
    "        B = 2*h*(c**2)*(nu_tilde**3)\n",
    "        B = B/(np.exp((h*c*nu_tilde)/(k_B*T)) - 1)\n",
    "\n",
    "    return B"
   ]
  },
  {
   "cell_type": "code",
   "execution_count": 34,
   "id": "d84500c7-31f6-419d-9499-486535babd52",
   "metadata": {},
   "outputs": [
    {
     "data": {
      "text/latex": [
       "$[0.041384861,~0.0025867399,~0.00051097322] \\; \\mathrm{\\frac{erg}{s\\,cm^{3}}}$"
      ],
      "text/plain": [
       "<Quantity [0.04138486, 0.00258674, 0.00051097] erg / (s cm3)>"
      ]
     },
     "metadata": {},
     "output_type": "display_data"
    }
   ],
   "source": [
    "x = planck(np.array([1,2,3]),5000,x_type=\"wavelength\")\n",
    "display(x)"
   ]
  },
  {
   "cell_type": "code",
   "execution_count": 26,
   "id": "8d2954f7-8a4e-4968-819b-ec7b5e0a2c5a",
   "metadata": {},
   "outputs": [],
   "source": [
    "from astropy.constants import h, c, k_B\n",
    "from astropy.units import cgs"
   ]
  },
  {
   "cell_type": "code",
   "execution_count": null,
   "id": "1c36280f-74bc-4056-af09-1d9b73111071",
   "metadata": {},
   "outputs": [],
   "source": []
  }
 ],
 "metadata": {
  "kernelspec": {
   "display_name": "Python 3 (ipykernel)",
   "language": "python",
   "name": "python3"
  },
  "language_info": {
   "codemirror_mode": {
    "name": "ipython",
    "version": 3
   },
   "file_extension": ".py",
   "mimetype": "text/x-python",
   "name": "python",
   "nbconvert_exporter": "python",
   "pygments_lexer": "ipython3",
   "version": "3.10.2"
  }
 },
 "nbformat": 4,
 "nbformat_minor": 5
}
